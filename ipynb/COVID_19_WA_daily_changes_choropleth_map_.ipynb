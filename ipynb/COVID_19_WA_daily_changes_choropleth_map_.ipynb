{
 "cells": [
  {
   "cell_type": "markdown",
   "metadata": {},
   "source": [
    "# CHOROPLETH MAP OF DAILY UPDATE OF COVID-19 DEATHS - PLOTLY "
   ]
  },
  {
   "cell_type": "code",
   "execution_count": 10,
   "metadata": {},
   "outputs": [],
   "source": [
    "import pandas as pd\n",
    "from datetime import date, timedelta, datetime\n",
    "import plotly.express as px\n",
    "import json\n",
    "\n",
    "# view all columns and rows\n",
    "#pd.set_option( 'display.max_columns', None )\n",
    "# pd.set_option( 'display.max_rows', None )"
   ]
  },
  {
   "cell_type": "code",
   "execution_count": 11,
   "metadata": {},
   "outputs": [],
   "source": [
    "url = 'https://raw.githubusercontent.com/CSSEGISandData/COVID-19/master/csse_covid_19_data/csse_covid_19_time_series'\n",
    "\n",
    "# get dataframes\n",
    "confirmed = pd.read_csv( f'{url}/time_series_covid19_confirmed_global.csv', usecols=lambda columns:columns not in['Province/State', 'Lat', 'Long'])\n",
    "deaths = pd.read_csv( f'{url}/time_series_covid19_deaths_global.csv', usecols=lambda columns:columns not in['Province/State', 'Lat', 'Long'] )\n",
    "recovered = pd.read_csv( f'{url}/time_series_covid19_recovered_global.csv', usecols=lambda columns:columns not in['Province/State', 'Lat', 'Long'])"
   ]
  },
  {
   "cell_type": "code",
   "execution_count": 12,
   "metadata": {},
   "outputs": [],
   "source": [
    "west_africa = ['Benin', 'Burkina Faso', \"Cote d'Ivoire\", 'Gambia', 'Ghana', 'Guinea', 'Guinea-Bissau', 'Liberia', 'Mali', 'Niger', 'Nigeria', 'Senegal', 'Sierra Leone', 'Togo']\n",
    "#countries = ['Ghana', 'Burkina Faso', \"Cote d'Ivoire\", 'Nigeria']"
   ]
  },
  {
   "cell_type": "code",
   "execution_count": 13,
   "metadata": {},
   "outputs": [],
   "source": [
    "def w_data(df):\n",
    "    \n",
    "    assert isinstance( df, pd.DataFrame)\n",
    "    \n",
    "    df.rename( columns={'Country/Region': 'country'}, inplace=True)\n",
    "    df = df[df['country'].isin(west_africa)]\n",
    "    df.set_index('country', inplace=True)\n",
    "    \n",
    "    df.columns = pd.to_datetime( df.columns )\n",
    "    df = df.transpose()\n",
    "    df.reset_index(inplace=True)\n",
    "    \n",
    "    df.rename(columns={'index':'date'}, inplace=True)\n",
    "    df= pd.melt(df, id_vars=['date'], value_vars=west_africa)\n",
    "    df = df[(df['date'] > '2020-03-12') & (df['date'] <= datetime.today().strftime('%Y-%m-%d'))]\n",
    "    \n",
    "    assert isinstance( df, pd.DataFrame )  # check to ensure created obj is a dataframe\n",
    "    return df"
   ]
  },
  {
   "cell_type": "code",
   "execution_count": 14,
   "metadata": {},
   "outputs": [],
   "source": [
    "confirmed1 = w_data(confirmed)\n",
    "confirmed1.rename(columns={'value':'confirmed'}, inplace=True)\n",
    "\n",
    "recovered1 = w_data(recovered)\n",
    "recovered1.rename(columns={'value':'recovered'}, inplace=True)\n",
    "\n",
    "deaths1 = w_data(deaths)\n",
    "deaths1.rename(columns={'value':'dead'}, inplace=True)"
   ]
  },
  {
   "cell_type": "code",
   "execution_count": 15,
   "metadata": {},
   "outputs": [],
   "source": [
    "data = pd.concat([confirmed1, deaths1, recovered1],axis=1)#.reset_index(drop=True)\n",
    "data.columns = ['date','country','confirmed','dates1','country1','dead','dates2', 'country2','recovered']\n",
    "data.drop(['dates1', 'dates2', 'country1','country2'], inplace =True,axis=1)\n",
    "datagroup = data.groupby('country')"
   ]
  },
  {
   "cell_type": "code",
   "execution_count": 16,
   "metadata": {},
   "outputs": [],
   "source": [
    "africa = json.load(open('africa.json','r'))"
   ]
  },
  {
   "cell_type": "code",
   "execution_count": null,
   "metadata": {},
   "outputs": [],
   "source": [
    "fig = px.choropleth(\n",
    "    data,\n",
    "    geojson=africa, \n",
    "    locations=\"country\",\n",
    "    color=\"dead\", \n",
    "    scope='africa',\n",
    "    featureidkey= 'properties.name',\n",
    "    animation_frame=data['date'].astype(str),\n",
    "    hover_name='country',\n",
    "    hover_data=['confirmed','recovered'],\n",
    "    labels={'dead':'Covid-19 Deaths'},\n",
    "    projection = 'mercator',\n",
    "    title = 'Covid-19 Deaths  Across West Africa'\n",
    "    )\n",
    "fig.update_geos(fitbounds='locations', visible=False)\n",
    "\n",
    "fig.show()\n",
    "\n",
    "#fig.write_html('Covid_plotly_map.html')"
   ]
  }
 ],
 "metadata": {
  "kernelspec": {
   "display_name": "Python 3",
   "language": "python",
   "name": "python3"
  },
  "language_info": {
   "codemirror_mode": {
    "name": "ipython",
    "version": 3
   },
   "file_extension": ".py",
   "mimetype": "text/x-python",
   "name": "python",
   "nbconvert_exporter": "python",
   "pygments_lexer": "ipython3",
   "version": "3.8.6"
  }
 },
 "nbformat": 4,
 "nbformat_minor": 4
}
